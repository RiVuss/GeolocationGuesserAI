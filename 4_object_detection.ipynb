{
 "cells": [
  {
   "cell_type": "code",
   "execution_count": 20,
   "metadata": {},
   "outputs": [],
   "source": [
    "import os\n",
    "import csv\n",
    "import requests\n",
    "#from vertexai.generative_models import GenerativeModel\n",
    "import vertexai\n",
    "import PIL.Image\n",
    "from IPython.display import Image\n",
    "from IPython.core.display import HTML\n",
    "import google.generativeai as genai\n",
    "\n"
   ]
  },
  {
   "cell_type": "code",
   "execution_count": 21,
   "metadata": {},
   "outputs": [
    {
     "name": "stdout",
     "output_type": "stream",
     "text": [
      "Processing image: grad-cam/rois/roi_0_0.jpeg\n",
      "Analysis result for roi_0_0.jpeg collected.\n",
      "Analysis complete. Results saved to gemini_output.csv.\n"
     ]
    }
   ],
   "source": [
    "folder_path = \"grad-cam/rois/\"\n",
    "target_objects = [\"car\", \"person\", \"tree\", \"building\", \"sky\", \"road\", \"sign\", \"bicycle\", \"bus\", \"truck\", \"motorcycle\", \"traffic light\", \"unrecognizable\"]\n",
    "output_csv = \"gemini_output.csv\"\n",
    "\n",
    "prompt = f\"\"\"\n",
    "Analyze the provided image and identify the objects present. \n",
    "Specifically check if any of the following objects are present: {', '.join(target_objects)}.\n",
    "If you detect other objects not in the list, please mention them as well.\n",
    "The output should be ONLY a list in square brackets! Example: \n",
    "[\"car\", \"tree\", \"vegetation\"]\n",
    "\"\"\"\n",
    "with open('api_key.txt', 'r') as file:\n",
    "    API_KEY = file.read().strip()\n",
    "genai.configure(api_key=API_KEY)\n",
    "\n",
    "\n",
    "model = genai.GenerativeModel(model_name='gemini-1.5-flash')\n",
    "\n",
    "\n",
    "# Collect results in memory\n",
    "results = []\n",
    "\n",
    "\n",
    "for filename in os.listdir(folder_path):\n",
    "    if filename.lower().endswith(('.png', '.jpeg')):  # Check for image files\n",
    "        image_path = folder_path + filename\n",
    "        print(f\"Processing image: {image_path}\")\n",
    "\n",
    "        try:\n",
    "           \n",
    "            image = Image(image_path)\n",
    "\n",
    "            # Use the model to generate text\n",
    "            response = model.generate_content([prompt,image])\n",
    "            #response.raise_for_status()  # Raise an exception for bad status codes (4xx or 5xx)\n",
    "\n",
    "            # Extract the generated text from response\n",
    "            analysis_result = response.text\n",
    "\n",
    "            if analysis_result:\n",
    "                results.append([filename, analysis_result])\n",
    "                print(f\"Analysis result for {filename} collected.\")\n",
    "            else:\n",
    "                results.append([filename, \"Failed to analyze\"])\n",
    "                print(f\"Failed to analyze {filename}, result collected.\")\n",
    "\n",
    "        except requests.exceptions.RequestException as e:\n",
    "            print(f\"Error making API request: {e}\")\n",
    "            results.append([filename, \"Error making API request\"])\n",
    "        except (KeyError, IndexError) as e:\n",
    "            print(f\"Error extracting content from the response: {e}\")\n",
    "            results.append([filename, \"Error extracting content\"])\n",
    "        except FileNotFoundError:\n",
    "            print(f\"Error: Image file not found at {image_path}\")\n",
    "            results.append([filename, \"File not found\"])\n",
    "        except Exception as e:\n",
    "            print(f\"An unexpected error occurred: {e}\")\n",
    "            results.append([filename, \"Unexpected error\"])\n",
    "\n",
    "# Write all results to CSV at once\n",
    "with open(output_csv, mode='w', newline='', encoding='utf-8') as csv_file:\n",
    "    csv_writer = csv.writer(csv_file)\n",
    "    csv_writer.writerow([\"Image Name\", \"Analysis Result\"])\n",
    "    csv_writer.writerows(results)\n",
    "\n",
    "print(f\"Analysis complete. Results saved to {output_csv}.\")\n"
   ]
  }
 ],
 "metadata": {
  "kernelspec": {
   "display_name": "base",
   "language": "python",
   "name": "python3"
  },
  "language_info": {
   "codemirror_mode": {
    "name": "ipython",
    "version": 3
   },
   "file_extension": ".py",
   "mimetype": "text/x-python",
   "name": "python",
   "nbconvert_exporter": "python",
   "pygments_lexer": "ipython3",
   "version": "3.11.4"
  }
 },
 "nbformat": 4,
 "nbformat_minor": 2
}
