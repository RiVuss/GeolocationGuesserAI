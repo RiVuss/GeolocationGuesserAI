{
 "cells": [
  {
   "cell_type": "code",
   "execution_count": 1,
   "metadata": {},
   "outputs": [],
   "source": [
    "import pandas as pd\n",
    "from tqdm import tqdm\n",
    "import reverse_geocoder as rg\n",
    "import pycountry\n",
    "import pycountry_convert as pc\n",
    "from concurrent.futures import ThreadPoolExecutor"
   ]
  },
  {
   "cell_type": "code",
   "execution_count": 6,
   "metadata": {},
   "outputs": [],
   "source": [
    "# ---------------------------\n",
    "# 1. Load the CSV and set up columns\n",
    "# ---------------------------\n",
    "csv_path = \"Streetview_Image_Dataset/coordinates.csv\"\n",
    "column_names = [\"latitude\", \"longitude\"]\n",
    "df = pd.read_csv(csv_path)\n",
    "\n",
    "# Add 'image_name' column\n",
    "df[\"image_name\"] = (df.index + 1).astype(str) + \".png\"\n",
    "\n",
    "# ---------------------------\n",
    "# 2. Helper functions for offline country/continent lookups\n",
    "# ---------------------------\n",
    "def latlon_to_country_code_batch(coords):\n",
    "    \"\"\"\n",
    "    Batch process reverse geocoding.\n",
    "    \"\"\"\n",
    "    try:\n",
    "        results = rg.search(coords)  # Batch process\n",
    "        return [res['cc'] for res in results]\n",
    "    except Exception as e:\n",
    "        print(f\"Batch reverse geocode failed. Error: {e}\")\n",
    "        return [None] * len(coords)\n",
    "\n",
    "def alpha2_to_country_name(alpha2):\n",
    "    \"\"\"\n",
    "    Converts ISO alpha-2 code to the official country name.\n",
    "    \"\"\"\n",
    "    country = pycountry.countries.get(alpha_2=alpha2)\n",
    "    return country.name if country else None\n",
    "\n",
    "def alpha2_to_continent(alpha2):\n",
    "    \"\"\"\n",
    "    Converts an ISO alpha-2 code to the name of the continent.\n",
    "    \"\"\"\n",
    "    try:\n",
    "        continent_code = pc.country_alpha2_to_continent_code(alpha2)\n",
    "        continent_map = {\n",
    "            \"AF\": \"Africa\",\n",
    "            \"NA\": \"North America\",\n",
    "            \"SA\": \"South America\",\n",
    "            \"OC\": \"Oceania\",\n",
    "            \"AS\": \"Asia\",\n",
    "            \"EU\": \"Europe\",\n",
    "            \"AN\": \"Antarctica\"\n",
    "        }\n",
    "        return continent_map.get(continent_code, None)\n",
    "    except:\n",
    "        return None\n",
    "\n"
   ]
  },
  {
   "cell_type": "code",
   "execution_count": null,
   "metadata": {},
   "outputs": [
    {
     "name": "stderr",
     "output_type": "stream",
     "text": [
      "100%|██████████| 5/5 [00:05<00:00,  1.13s/it]"
     ]
    },
    {
     "name": "stdout",
     "output_type": "stream",
     "text": [
      "Processing complete! Results saved to 'coords_processed.csv'.\n"
     ]
    },
    {
     "name": "stderr",
     "output_type": "stream",
     "text": [
      "\n"
     ]
    }
   ],
   "source": [
    "# ---------------------------\n",
    "# 3. Process entire dataset with parallel processing\n",
    "# ---------------------------\n",
    "def process_chunk(chunk):\n",
    "    \"\"\"\n",
    "    Processes a chunk of the DataFrame, performing reverse geocoding\n",
    "    and mapping country/continent information.\n",
    "    \"\"\"\n",
    "    coords = list(zip(chunk[\"latitude\"], chunk[\"longitude\"]))\n",
    "    chunk[\"country_code\"] = latlon_to_country_code_batch(coords)\n",
    "    chunk[\"country\"] = chunk[\"country_code\"].apply(alpha2_to_country_name)\n",
    "    chunk[\"continent\"] = chunk[\"country_code\"].apply(alpha2_to_continent)\n",
    "    return chunk\n",
    "\n",
    "# Split DataFrame into manageable chunks for parallel processing\n",
    "num_threads = 4\n",
    "chunk_size = len(df) // num_threads\n",
    "chunks = [df.iloc[i:i + chunk_size].copy() for i in range(0, len(df), chunk_size)]\n",
    "\n",
    "# Use ThreadPoolExecutor to process chunks in parallel\n",
    "with ThreadPoolExecutor(max_workers=num_threads) as executor:\n",
    "    results = list(tqdm(executor.map(process_chunk, chunks), total=len(chunks)))\n",
    "\n",
    "# Combine all chunks into a single DataFrame\n",
    "df_final = pd.concat(results, ignore_index=True)\n",
    "\n",
    "# ---------------------------\n",
    "# 4. Save the final DataFrame to a CSV file\n",
    "# ---------------------------\n",
    "df_final.to_csv(\"coords_processed_large_dataset.csv\", index=False)\n",
    "print(\"Processing complete! Results saved to 'coords_processed2.csv'.\")\n"
   ]
  }
 ],
 "metadata": {
  "kernelspec": {
   "display_name": "base",
   "language": "python",
   "name": "python3"
  },
  "language_info": {
   "codemirror_mode": {
    "name": "ipython",
    "version": 3
   },
   "file_extension": ".py",
   "mimetype": "text/x-python",
   "name": "python",
   "nbconvert_exporter": "python",
   "pygments_lexer": "ipython3",
   "version": "3.11.4"
  }
 },
 "nbformat": 4,
 "nbformat_minor": 2
}
