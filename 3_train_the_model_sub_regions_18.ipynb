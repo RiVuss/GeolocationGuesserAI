{
 "cells": [
  {
   "cell_type": "code",
   "execution_count": 1,
   "metadata": {},
   "outputs": [],
   "source": [
    "import os\n",
    "import pandas as pd\n",
    "from sklearn.model_selection import train_test_split\n",
    "import torch\n",
    "import torch.nn as nn\n",
    "import torch.optim as optim\n",
    "from torch.utils.data import DataLoader, Dataset\n",
    "from torchvision import io\n",
    "from torchvision.models import resnet18, ResNet18_Weights\n",
    "from tqdm import tqdm  # For progress bars\n"
   ]
  },
  {
   "cell_type": "code",
   "execution_count": null,
   "metadata": {},
   "outputs": [
    {
     "name": "stdout",
     "output_type": "stream",
     "text": [
      "Using device: cuda\n",
      "Dataset initialized with 24999 samples.\n",
      "Sub-regions mapped: {'Latin America and the Caribbean': 0, 'Australia and New Zealand': 1, 'Western Asia': 2, 'Sub-Saharan Africa': 3, 'Western Europe': 4, 'Southern Asia': 5, 'South-eastern Asia': 6, 'Eastern Europe': 7, 'Eastern Asia': 8, 'Northern Europe': 9, 'Southern Europe': 10, 'Northern America': 11, 'Central Asia': 12, nan: 13, 'Northern Africa': 14, 'Melanesia': 15}\n",
      "Training dataset size: 19999\n",
      "Testing dataset size: 5000\n",
      "\n",
      "Epoch 1/2\n"
     ]
    },
    {
     "name": "stderr",
     "output_type": "stream",
     "text": [
      "Training:  19%|█▊        | 58/313 [00:27<01:53,  2.25batch/s, loss=2.34]"
     ]
    },
    {
     "name": "stdout",
     "output_type": "stream",
     "text": [
      "Sample image shape: torch.Size([3, 224, 224]), Label: 0\n"
     ]
    },
    {
     "name": "stderr",
     "output_type": "stream",
     "text": [
      "Training: 100%|██████████| 313/313 [02:20<00:00,  2.22batch/s, loss=2.14]\n",
      "Testing:   8%|▊         | 6/79 [00:02<00:30,  2.36batch/s, loss=2.23]"
     ]
    }
   ],
   "source": [
    "# Custom dataset class for sub-region prediction\n",
    "class CustomDataset(Dataset):\n",
    "    def __init__(self, csv_file, root_dir, transform=None, limit=None):\n",
    "        self.data = pd.read_csv(csv_file)\n",
    "        if limit:  # Limit the dataset to a small number of observations\n",
    "            self.data = self.data.head(limit)\n",
    "        self.root_dir = root_dir\n",
    "        self.transform = transform\n",
    "        self.subregion_mapping = {subregion: idx for idx, subregion in enumerate(self.data['sub-region'].unique())}\n",
    "        self.data['subregion_label'] = self.data['sub-region'].map(self.subregion_mapping)\n",
    "\n",
    "        print(f\"Dataset initialized with {len(self.data)} samples.\")\n",
    "        print(f\"Sub-regions mapped: {self.subregion_mapping}\")\n",
    "\n",
    "    def __len__(self):\n",
    "        return len(self.data)\n",
    "\n",
    "    def __getitem__(self, idx):\n",
    "        img_path = os.path.join(self.root_dir, self.data.iloc[idx]['image_name'])\n",
    "        image = io.read_image(img_path)\n",
    "        if self.transform:\n",
    "            image = self.transform(image)\n",
    "        label = self.data.iloc[idx]['subregion_label']\n",
    "\n",
    "        if idx == 0:  # Show one sample for debugging\n",
    "            print(f\"Sample image shape: {image.shape}, Label: {label}\")\n",
    "\n",
    "        return image, label\n",
    "\n",
    "# Training function\n",
    "\n",
    "def train(model, train_loader, optimizer, criterion, device):\n",
    "    model.train()\n",
    "    train_loss, correct = 0, 0\n",
    "    with tqdm(train_loader, desc=\"Training\", unit=\"batch\") as pbar:\n",
    "        for inputs, labels in pbar:\n",
    "            inputs, labels = inputs.to(device), labels.to(device)\n",
    "            optimizer.zero_grad()\n",
    "            outputs = model(inputs)\n",
    "            loss = criterion(outputs, labels)\n",
    "            loss.backward()\n",
    "            optimizer.step()\n",
    "\n",
    "            train_loss += loss.item()\n",
    "            _, preds = outputs.max(1)\n",
    "            correct += preds.eq(labels).sum().item()\n",
    "\n",
    "            pbar.set_postfix(loss=loss.item())\n",
    "\n",
    "    train_accuracy = correct / len(train_loader.dataset)\n",
    "    train_loss /= len(train_loader)\n",
    "    return train_loss, train_accuracy\n",
    "\n",
    "# Testing function\n",
    "def test(model, test_loader, criterion, device):\n",
    "    model.eval()\n",
    "    test_loss, correct = 0, 0\n",
    "    with tqdm(test_loader, desc=\"Testing\", unit=\"batch\") as pbar:\n",
    "        for inputs, labels in pbar:\n",
    "            inputs, labels = inputs.to(device), labels.to(device)\n",
    "            outputs = model(inputs)\n",
    "            loss = criterion(outputs, labels)\n",
    "\n",
    "            test_loss += loss.item()\n",
    "            _, preds = outputs.max(1)\n",
    "            correct += preds.eq(labels).sum().item()\n",
    "\n",
    "            pbar.set_postfix(loss=loss.item())\n",
    "\n",
    "    test_accuracy = correct / len(test_loader.dataset)\n",
    "    test_loss /= len(test_loader)\n",
    "    return test_loss, test_accuracy\n",
    "\n",
    "# Main training loop\n",
    "def train_loop(csv_path, root_dir, num_epochs=2, batch_size=2, learning_rate=0.001, weight_decay=0.0001, limit=10):\n",
    "    device = torch.device(\"cuda\" if torch.cuda.is_available() else \"cpu\")\n",
    "    print(f\"Using device: {device}\")\n",
    "\n",
    "    # Data transformations\n",
    "    weights = ResNet18_Weights.DEFAULT\n",
    "    transform = weights.transforms()\n",
    "\n",
    "    # Dataset and DataLoaders\n",
    "    dataset = CustomDataset(csv_file=csv_path, root_dir=root_dir, transform=transform, limit=limit)\n",
    "    train_idx, test_idx = train_test_split(range(len(dataset)), test_size=0.2, random_state=42)\n",
    "    train_set = torch.utils.data.Subset(dataset, train_idx)\n",
    "    test_set = torch.utils.data.Subset(dataset, test_idx)\n",
    "\n",
    "    train_loader = DataLoader(train_set, batch_size=batch_size, shuffle=True, num_workers=0, pin_memory=True)\n",
    "    test_loader = DataLoader(test_set, batch_size=batch_size, shuffle=False, num_workers=0, pin_memory=True)\n",
    "\n",
    "    print(f\"Training dataset size: {len(train_set)}\")\n",
    "    print(f\"Testing dataset size: {len(test_set)}\")\n",
    "\n",
    "    # Load ResNet18 and modify the final layer\n",
    "    resnet = resnet18(weights=ResNet18_Weights.DEFAULT)\n",
    "    num_features = resnet.fc.in_features\n",
    "    resnet.fc = nn.Linear(num_features, len(dataset.subregion_mapping))  # Number of sub-regions\n",
    "    resnet.to(device)\n",
    "\n",
    "    # Loss function and optimizer\n",
    "    criterion = nn.CrossEntropyLoss()\n",
    "    optimizer = optim.Adam(resnet.fc.parameters(), lr=learning_rate, weight_decay=weight_decay)\n",
    "\n",
    "    # Training and evaluation\n",
    "    metrics = pd.DataFrame(columns=['epoch', 'train_loss', 'train_accuracy', 'test_loss', 'test_accuracy'])\n",
    "\n",
    "    for epoch in range(num_epochs):\n",
    "        print(f\"\\nEpoch {epoch + 1}/{num_epochs}\")\n",
    "        train_loss, train_accuracy = train(resnet, train_loader, optimizer, criterion, device)\n",
    "        test_loss, test_accuracy = test(resnet, test_loader, criterion, device)\n",
    "\n",
    "        # Save metrics and model\n",
    "        metrics = metrics.append({'epoch': epoch, 'train_loss': train_loss, 'train_accuracy': train_accuracy,\n",
    "                                  'test_loss': test_loss, 'test_accuracy': test_accuracy}, ignore_index=True)\n",
    "        metrics.to_csv('metrics_model_2_18.csv', index=False)\n",
    "        torch.save(resnet.state_dict(), 'model_2_18.pth')\n",
    "\n",
    "        print(f\"Train Loss: {train_loss:.4f}, Train Accuracy: {train_accuracy:.4f}\")\n",
    "        print(f\"Test Loss: {test_loss:.4f}, Test Accuracy: {test_accuracy:.4f}\")\n",
    "\n",
    "    print(\"\\nTraining complete! Model saved to 'model_2_18.pth' and metrics to 'metrics_model_2_18.csv'.\")\n",
    "\n",
    "# Example usage\n",
    "# Ensure 'coords_processed.csv' and 'Streetview_Image_Dataset/' are properly set up\n",
    "train_loop(csv_path='coords_processed_large_dataset.csv', root_dir='Streetview_Image_Dataset/', num_epochs=2, batch_size=64, limit=24999)\n"
   ]
  },
  {
   "cell_type": "code",
   "execution_count": 5,
   "metadata": {},
   "outputs": [
    {
     "name": "stdout",
     "output_type": "stream",
     "text": [
      "Using device: cuda\n"
     ]
    },
    {
     "name": "stderr",
     "output_type": "stream",
     "text": [
      "C:\\Users\\Public\\Documents\\Wondershare\\CreatorTemp\\ipykernel_11316\\2691431291.py:11: FutureWarning: You are using `torch.load` with `weights_only=False` (the current default value), which uses the default pickle module implicitly. It is possible to construct malicious pickle data which will execute arbitrary code during unpickling (See https://github.com/pytorch/pytorch/blob/main/SECURITY.md#untrusted-models for more details). In a future release, the default value for `weights_only` will be flipped to `True`. This limits the functions that could be executed during unpickling. Arbitrary objects will no longer be allowed to be loaded via this mode unless they are explicitly allowlisted by the user via `torch.serialization.add_safe_globals`. We recommend you start setting `weights_only=True` for any use case where you don't have full control of the loaded file. Please open an issue on GitHub for any issues related to this experimental feature.\n",
      "  resnet.load_state_dict(torch.load(model_path, map_location=device))\n"
     ]
    },
    {
     "name": "stdout",
     "output_type": "stream",
     "text": [
      "Dataset initialized with 10000 samples.\n",
      "Continents mapped: {'North America': 0, 'South America': 1, 'Oceania': 2, 'Asia': 3, 'Africa': 4, 'Europe': 5}\n",
      "Generating predictions...\n",
      "Sample image shape: torch.Size([3, 224, 224]), Label: 0\n",
      "Predictions saved to test_predictions.csv\n"
     ]
    }
   ],
   "source": [
    "def save_predictions(csv_path, root_dir, model_path, output_path):\n",
    "    device = torch.device(\"cuda\" if torch.cuda.is_available() else \"cpu\")\n",
    "    print(f\"Using device: {device}\")\n",
    "\n",
    "    # Load the model\n",
    "    weights = ResNet18_Weights.DEFAULT\n",
    "    transform = weights.transforms()\n",
    "    resnet = resnet18(weights=ResNet18_Weights.DEFAULT)\n",
    "    num_features = resnet.fc.in_features\n",
    "    resnet.fc = nn.Linear(num_features, 6)  # 6 continents\n",
    "    resnet.load_state_dict(torch.load(model_path, map_location=device))\n",
    "    resnet.to(device)\n",
    "    resnet.eval()\n",
    "\n",
    "    # Load the test dataset\n",
    "    dataset = CustomDataset(csv_file=csv_path, root_dir=root_dir, transform=transform)\n",
    "    test_idx = train_test_split(range(len(dataset)), test_size=0.2, random_state=42)[1]\n",
    "    test_set = torch.utils.data.Subset(dataset, test_idx)\n",
    "    test_loader = DataLoader(test_set, batch_size=1, shuffle=False, num_workers=0)\n",
    "\n",
    "    # Create a DataFrame to store predictions\n",
    "    predictions = []\n",
    "    true_labels = []\n",
    "\n",
    "    print(\"Generating predictions...\")\n",
    "    with torch.no_grad():\n",
    "        for idx, (inputs, labels) in enumerate(test_loader):\n",
    "            inputs = inputs.to(device)\n",
    "            outputs = resnet(inputs)\n",
    "            _, preds = outputs.max(1)\n",
    "\n",
    "            predictions.append(preds.item())\n",
    "            true_labels.append(labels.item())\n",
    "\n",
    "    # Map numeric labels back to continents\n",
    "    full_dataset = pd.read_csv(csv_path)\n",
    "    continent_mapping = {continent: idx for idx, continent in enumerate(full_dataset['continent'].unique())}\n",
    "    inverse_mapping = {v: k for k, v in continent_mapping.items()}\n",
    "\n",
    "    test_data = full_dataset.iloc[test_idx].copy()\n",
    "    test_data['model_prediction'] = [inverse_mapping[pred] for pred in predictions]\n",
    "\n",
    "    # Save the test dataset with predictions\n",
    "    test_data.to_csv(output_path, index=False)\n",
    "    print(f\"Predictions saved to {output_path}\")\n",
    "\n",
    "\n",
    "save_predictions(\n",
    "    csv_path='coords_processed.csv',    # Input CSV with all data\n",
    "    root_dir='dataset/',               # Path to the dataset folder\n",
    "    model_path='model.pth',            # Path to the saved trained model\n",
    "    output_path='test_predictions.csv' # Output CSV with predictions\n",
    ")"
   ]
  },
  {
   "cell_type": "code",
   "execution_count": null,
   "metadata": {},
   "outputs": [],
   "source": []
  },
  {
   "cell_type": "code",
   "execution_count": null,
   "metadata": {},
   "outputs": [],
   "source": []
  },
  {
   "cell_type": "code",
   "execution_count": null,
   "metadata": {},
   "outputs": [],
   "source": []
  },
  {
   "cell_type": "code",
   "execution_count": null,
   "metadata": {},
   "outputs": [],
   "source": []
  }
 ],
 "metadata": {
  "kernelspec": {
   "display_name": "base",
   "language": "python",
   "name": "python3"
  },
  "language_info": {
   "codemirror_mode": {
    "name": "ipython",
    "version": 3
   },
   "file_extension": ".py",
   "mimetype": "text/x-python",
   "name": "python",
   "nbconvert_exporter": "python",
   "pygments_lexer": "ipython3",
   "version": "3.11.4"
  }
 },
 "nbformat": 4,
 "nbformat_minor": 2
}
